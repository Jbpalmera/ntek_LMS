{
 "cells": [
  {
   "cell_type": "markdown",
   "metadata": {},
   "source": [
    "Load Document File"
   ]
  },
  {
   "cell_type": "code",
   "execution_count": 1,
   "metadata": {},
   "outputs": [
    {
     "name": "stderr",
     "output_type": "stream",
     "text": [
      "Ignoring wrong pointing object 15 0 (offset 0)\n"
     ]
    }
   ],
   "source": [
    "from langchain_community.document_loaders.csv_loader import CSVLoader\n",
    "from langchain_community.document_loaders.pdf import PyPDFLoader\n",
    "\n",
    "# loader = CSVLoader('./datas/books.csv')\n",
    "\n",
    "loader = PyPDFLoader('./datas/LibraryGuide.pdf')\n",
    "\n",
    "data = loader.load()"
   ]
  },
  {
   "cell_type": "markdown",
   "metadata": {},
   "source": [
    "Chunk Data from the Loaded Document File"
   ]
  },
  {
   "cell_type": "code",
   "execution_count": 2,
   "metadata": {},
   "outputs": [
    {
     "data": {
      "text/plain": [
       "[Document(page_content='1. Library Usersa. Use of Libraries by Members.\\xa0The following members of the UP System may use the library resources subject to the rules and regulations governing their use:•All bona ﬁde students, faculty and employees, members of the Board of Regents and ofﬁcials of the University•Retired faculty members speciﬁcally granted off-campus-reading privileges by the Board of Regents•Visiting scholars with university appointments•Cross registrants from other colleges and universities, and special studentsb. Use of Libraries by Non-members.\\xa0The following non-members of the University may use the library resources within library premises subject to the rules and regulations governing their use:•Alumni, former faculty members and students honorably discharged from the University•Graduate students from other schools•Government and private researchers2. Use of Library ResourcesThe use of the different types of library services shall be subject to the following conditions:General Reference Books.\\xa0General reference books and materials (encyclopedias, dictionaries, atlases, etc.) shall be for room use only. General reference books may be issued for classroom use upon the request of a faculty member, but these shall be returned within the day.', metadata={'source': './datas/LibraryGuide.pdf', 'page': 0}),\n",
       " Document(page_content='Theses, Dissertations, and Periodicals.\\xa0Theses, dissertations, and periodicals shall be for room use only. However, faculty and ofﬁcials of the University may borrow a periodical, other than the latest issue for a period of not more than one (1) week.Reserve Books.\\xa0Reserve books (required reading materials for courses offered during the semester/ summer) shall be lent for room use only and recalled two hours after issue. It may also be borrowed for overnight use upon request and be returned not later than 9:00 A.M. the next working day.Circulation Books.\\xa0Books for home use are usually loaned for two weeks.3. Registration for Library PrivilegesBona ﬁde members of the University who register for library privileges shall be required to obtain the following:•Student identiﬁcation card valid for the current semester; or,•Faculty/Staff identiﬁcation card or appointment papers;•Active UP WebMail account; and,•Library clearance4. Use of the Library by Non-UPFor alumni,\\xa0former faculty members and students honorably discharged from the University the following procedures will be observed:Free use.\\xa0Alumni, former faculty members and students honorably discharged from the University may be allowed to use the library for ﬁve (5) days free of charge within a semester. They are issued special permits by the duly authorized staff of the', metadata={'source': './datas/LibraryGuide.pdf', 'page': 1}),\n",
       " Document(page_content='college/unit library they would like to use. Beyond ﬁve days, they will be asked to pay library fees.Fees.\\xa0Beyond ﬁve days the following fees are charged : Php20.00 per day; Php450.00 per year.Upon payment of the fees, they are issued special permits by the duly authorized staff of the college/unit library they would like to use.Letter of Introduction or ID.\\xa0The above users must present identiﬁcation cards or letters of introduction from a University personnel or a U.P. Alumni Association ID when applying for a permit to use the library.For graduate students and researchers the following procedures are observed:Graduate students\\xa0must present a letter from their librarian requesting privilege to use the UP Diliman Library, and their school/university ID.Consortium students/faculty.\\xa0A consortium student who is also a student of UP may be issued a consortium ID and a consortium borrower’s card only by the library of the college which is a member of the consortium, upon presentation of his duly countersigned ID from UP; and after veriﬁcation from the list of consortium students. The consortium ID and BC is valid only in the consortium libraries.Private researchers\\xa0must present a letter of request to use the UP libraries from their ofﬁces, and their ofﬁce IDs.', metadata={'source': './datas/LibraryGuide.pdf', 'page': 2}),\n",
       " Document(page_content='Government researchers\\xa0must present a letter from the head of their agency requesting privilege to use the library, and their ofﬁce ID. They may be allowed to use the library free of charge up to ﬁve (5) days per semester. Beyond ﬁve days they will be assessed library fees.Fees.\\xa0Graduate students and private researchers are assessed as follows: Php50.00 per day; Php450.00 per semester; Php350.00 per summer. Government researchers are assessed as follows: Php20.00 per day; Php450.00 per semester; Php300.00 per summer.Library permit. In all cases, the authorized library staff should issue a special library permit.5. Borrowing Privileges•Undergraduate students•5 circulation books for 2 weeks•2 reserve books for overnight•Graduate students•10 circulation books for 2 weeks•2 reserve books for overnight•Faculty•10 circulation books for 1 month•Serials (non-current) for 1 week•Said materials are renewable only once•Research, Extension and Professional Staff (REPS)•10 circulation books for 2 weeks•Administrative Staff', metadata={'source': './datas/LibraryGuide.pdf', 'page': 3}),\n",
       " Document(page_content='•5 circulation books for 2 weeks•Non-UP Members•Room-use only6. Record of WithdrawalA record of withdrawal shall be made of every material of any kind taken from the library. Any person who draws a book or periodical from the library shall be held accountable for it until its return.7. Recall of Books•Ofﬁcials of the University have an urgent need of the book;•A book is to be placed on “Reserve” for a course or is to be given shorter loan periods;•It is overdue; or•The libraries are conducting their mandated annual inventory.8. Loss of Library ResourcesLoss of a Circulation Book. Any person who loses or fails to return a book within seven (7) days after due date or recall shall either replace it with the same title, or pay its current replacement value within thirty (30) days. In all cases, the borrower shall pay a ﬁne equivalent to 50% of the cost of the book.Loss of Periodical.\\xa0Any person who loses or fails to return a periodical after recall shall either replace it with the same title and issue number within thirty (30) days or pay its current replacement value, and pay a ﬁne equivalent to 50% of the cost of the periodical.', metadata={'source': './datas/LibraryGuide.pdf', 'page': 4}),\n",
       " Document(page_content='9. FeesResearch Fee\\u2028UP students, faculty, REPS & administrative staff – Free\\u2028Alumni & government researchers – P20/day\\u2028Non-UP (Private) – P50/dayInternet\\u2028UP students – P20/hour; a fraction is considered an hour*\\u2028Faculty – Free; REPS & Staff – P20/hr.\\u2028Alumni, government/private researchers – P50/hour; a fraction is considered an hourUse of Library Equipment\\u2028UP students, faculty, REPS & administrative staff – Free\\u2028Alumni, government/private researchers – P50/hour; a fraction is considered an hourUse of Personal Equipment (Energy Fee)\\u2028UP students – P20/hour; a fraction is considered an hour*\\u2028Faculty – Free; REPS & administrative staff – P20/hr.\\u2028Alumni, government/private researchers – P50/hour; a fraction is considered an hour10. FinesFailure to Return a Circulation Book.\\xa0Any person who fails to return any book open to general circulation on its due date or after recall shall pay a ﬁne of Php2.00 a day, exclusive of Sundays and holidays.Failure to Return a Reserve Book.\\xa0Any person who fails to return a reserve book shall pay a ﬁne according to the following schedule: For the ﬁrst hour or a fraction thereof after the hour', metadata={'source': './datas/LibraryGuide.pdf', 'page': 5}),\n",
       " Document(page_content='appointed for return, one peso (Php1.00); for each hour after the ﬁrst, ﬁve pesos (Php5.00); for each full day, ﬁfty pesos (Php50.00). A second offense within a semester shall automatically suspend/curtail this privilege\\xa0for\\xa0the rest of the semester or summer.Withdrawal of a Reserve Book Without Reservation Permit.\\xa0Any person who draws out a reserve book for overnight use without an approved reservation shall pay a ﬁne of Php50.00. The library privilege to borrow from the reserve collections shall be suspended for two weeks on the second offense.Failure to Return a General Reference Book and Other Restricted Materials Borrowed for Photocopying Purposes.\\xa0A person who fails to return a general reference book and other restricted materials borrowed for photocopying purposes shall pay a ﬁne of Php50.00, on the second offense the person shall have his library privileges suspended for one week.11. Mutilating or Stealing Library PropertiesAny person who shall deface, mutilate, appropriate for himself, or steal any library material or property shall replace it or pay its current replacement value and pay a ﬁne of not less than three hundred pesos (Php300.00) but not more than ﬁfty percent (50%) of the current cost of the book whichever is higher. This is without prejudice to the imposition, in appropriate cases, of an additional penalty of suspension or expulsion to be imposed after due process, by the Chancellor upon the recommendation of the University Librarian through the Dean.12. Falsiﬁcation and Use of Someone Else’s Identiﬁcation Card', metadata={'source': './datas/LibraryGuide.pdf', 'page': 6}),\n",
       " Document(page_content='•Any person who falsiﬁes the identiﬁcation card shall, after due process, be suspended from the University for not more than one semester.•Any person who uses an identiﬁcation card not his own shall have his library privileges suspended for not more than one semester.13. Disorderly and Disruptive BehaviorAny person engaged in disorderly conduct such as drunken behavior creating disorder, disruptive behavior, e.g. excessive noise, loud discussions etc.; or improper behavior, e.g. smoking, eating within the library premises shall be asked by the Librarian to leave the library premises and shall be subjected to suspension of library privileges for not more than two weeks.14. Refusal or Failure to Settle Library AccountsAny person who after due notice shall refuse or fail without just cause to settle library accounts or obligations :•shall not be allowed to register•shall not be permitted to use the University libraries\\xa0•shall not be issued a University clearancePOST-ECQ LIBRARY GUIDELINES1. Suspended ServicesThe following tasks or services are temporarily suspended during the post-ECQ period (During Phase 1; but may be extended as needed):Use of Library Spaces, Facilities, and Equipment•Use of discussion rooms, reading areas, viewing rooms, etc.', metadata={'source': './datas/LibraryGuide.pdf', 'page': 7}),\n",
       " Document(page_content='•Access to computers (internet workstations, etc.)•Photocopying, printing, and scanning services•Viewing of multimedia materials (physical)•Tapping of electricityReference and Information Services•Assisting readers in external services•Conducting face-to-face reference services•Conducting physical library instruction sessions•Providing Library Tours•Doing document delivery services•Accommodating non-UP usersCirculation and User Services•Lending (using face-to-face transaction)•Performing collection maintenance (inventory of books, book covering, etc.)•Manning of Control desks•Facilitating Inter-Library Loans•Recalling of overdue books•Accepting payment of ﬁnesAcquisitions / Collection Development•Processing of donated materials/gifts•Acquiring of print resources (unless strongly justiﬁed)•Facilitating or accepting of book donationsOther library tasks•Repairing/binding of library materials2. Services that may be Offered Remotely (Online)', metadata={'source': './datas/LibraryGuide.pdf', 'page': 8}),\n",
       " Document(page_content='The following online services and information systems shall remain accessible or be made available to the UP Diliman constituents thru online means:•Search of the Online Catalog Tuklas : https://ds.mainlib.upd.edu.ph/ and other local databases (IPP : https://ipp.mainlib.upd.edu.ph, IPN: https://ipn. mainlib.upd.edu.ph)•Access to online resources (e.g., subscribed foreign electronic databases/journals, open access e-resources) via remote access login/ password or via remote access platform (e.g. \\xa0https://mainlib.upd.edu.ph/onlinesubscriptions/)•Access to UP Publications, including electronic theses/dissertations (thru the Institutional Repository:\\xa0https://digitalarchives.upd.edu.ph)•Access to local digital resources, e.g., rare periodicals (thru the Open-Access Digital Repository:\\xa0https://repository.mainlib.upd.edu.ph)•Document delivery services•Online book requests / online reservation•E-book lending•Online library instruction•Viewing multimedia resources (if the platform is available)•Reference and research support services*based on the OVCAA and University Library Guidelines', metadata={'source': './datas/LibraryGuide.pdf', 'page': 9})]"
      ]
     },
     "execution_count": 2,
     "metadata": {},
     "output_type": "execute_result"
    }
   ],
   "source": [
    "from langchain.text_splitter import CharacterTextSplitter\n",
    "\n",
    "text_splitter = CharacterTextSplitter(\n",
    "    chunk_size=1000,\n",
    "    chunk_overlap=200,\n",
    "    length_function=len,\n",
    ")\n",
    "\n",
    "# Split documents into chunks\n",
    "docs = text_splitter.split_documents(data)\n",
    "docs"
   ]
  },
  {
   "cell_type": "markdown",
   "metadata": {},
   "source": [
    "Start embedding chunked document texts into persistent vector database"
   ]
  },
  {
   "cell_type": "code",
   "execution_count": 3,
   "metadata": {},
   "outputs": [
    {
     "name": "stdout",
     "output_type": "stream",
     "text": [
      "Starting embedding document texts ...\n",
      "Embeddings successfully completed\n"
     ]
    }
   ],
   "source": [
    "from langchain_community.embeddings import OllamaEmbeddings\n",
    "from langchain_community.vectorstores import Chroma\n",
    "# Embed and store the texts\n",
    "# Supplying a persist_directory will store the embeddings on disk\n",
    "persist_directory = 'library_guidelines'\n",
    "\n",
    "print(\"Starting embedding document texts ...\")\n",
    "## here we are using OLLAMA Local embeddings (NOMIC)\n",
    "embedding = OllamaEmbeddings(\n",
    "                                model=\"nomic-embed-text\")\n",
    "\n",
    "vectordb = Chroma.from_documents(documents=docs, \n",
    "                                embedding=embedding,\n",
    "                                persist_directory=persist_directory)\n",
    "\n",
    "# persiste the db to disk\n",
    "vectordb.persist()\n",
    "print(\"Embeddings successfully completed\")\n"
   ]
  }
 ],
 "metadata": {
  "kernelspec": {
   "display_name": "environment",
   "language": "python",
   "name": "python3"
  },
  "language_info": {
   "codemirror_mode": {
    "name": "ipython",
    "version": 3
   },
   "file_extension": ".py",
   "mimetype": "text/x-python",
   "name": "python",
   "nbconvert_exporter": "python",
   "pygments_lexer": "ipython3",
   "version": "3.10.11"
  }
 },
 "nbformat": 4,
 "nbformat_minor": 2
}
